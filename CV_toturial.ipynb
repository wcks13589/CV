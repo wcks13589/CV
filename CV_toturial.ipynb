{
 "cells": [
  {
   "cell_type": "markdown",
   "metadata": {
    "id": "11sm0Zu9KiIu"
   },
   "source": [
    "# Digital image\n",
    "\n",
    "### Color Image\n",
    "\n",
    "Color | RGB value   |\n",
    "-------|:------------------|\n",
    "Red  | 255, 0, 0   | \n",
    "Orange | 255, 128, 0  | \n",
    "Pink  | 255, 153, 255 | \n",
    "\n",
    "\n",
    "### OpenCV imread\n",
    "retval\t=\tcv.imread(\tfilename[, flags]\t)\n",
    "\n",
    "* In the case of color images, the decoded images will $\\color{red}{have\\;the\\; channels\\;stored\\;in\\;B\\;G\\;R\\;order.}$\n",
    "\n",
    "* To learn more about [cv.imread()](https://docs.opencv.org/3.4/d4/da8/group__imgcodecs.html)\n",
    "\n",
    "\n",
    "### matplotlib.pyplot.imshow\n",
    "matplotlib.pyplot.imshow(X, **cmap**=None, norm=None, *, aspect=None, interpolation=None, alpha=None, vmin=None, vmax=None, origin=None, extent=None, interpolation_stage=None, filternorm=True, filterrad=4.0, resample=None, url=None, data=None, **kwargs)\n",
    "\n",
    "* (M, N, 3): an image with RGB values ($\\color{blue}{0～1\\;float}$ or $\\color{red}{0～255\\;int}$).\n",
    "\n",
    "* (M, N, 4): an image with RGBA values ($\\color{blue}{0～1\\;float}$ or $\\color{red}{0～255\\;int}$),  i.e. including transparency\n",
    "\n",
    "* To learn more about [matplotlib.pyplot.imshow()](https://matplotlib.org/stable/api/_as_gen/matplotlib.pyplot.imshow.html)\n",
    "\n",
    "![image.png](https://i.imgur.com/Sl4fkuJ.png)\n",
    "\n"
   ]
  },
  {
   "cell_type": "code",
   "execution_count": null,
   "metadata": {
    "colab": {
     "base_uri": "https://localhost:8080/",
     "height": 269
    },
    "id": "3d9Fl5JAKgqp",
    "outputId": "14036007-8dd6-4f1f-c69d-dbec7ab0f53c"
   },
   "outputs": [],
   "source": [
    "import os\n",
    "import cv2\n",
    "import numpy as np\n",
    "from  matplotlib import pyplot as plt\n",
    "\n",
    "\n",
    "folder_path = './sample_image'\n",
    "image = cv2.imread(os.path.join(folder_path, \"gull.png\")) # the decoded images will have the channels stored in B G R order.\n",
    "\n",
    "# change the image matrix into R G B order.\n",
    "# method 1\n",
    "# b,g,r = cv2.split(im)\n",
    "# image = cv2.merge([r,g,b])\n",
    "\n",
    "# method 2\n",
    "image = image[:,:,::-1]\n",
    "\n",
    "# show the image\n",
    "plt.imshow(image)\n",
    "plt.show()"
   ]
  },
  {
   "cell_type": "code",
   "execution_count": null,
   "metadata": {
    "colab": {
     "base_uri": "https://localhost:8080/"
    },
    "id": "2dxQ5LhLWKq4",
    "outputId": "f7b31ea4-1ab5-442d-ee83-128799d79724"
   },
   "outputs": [],
   "source": [
    "print('image shape: ', image.shape) # show the image's shape(dimention).\n",
    "print('pixel space in position (100, 150): ', image[100,150]) # one pixel color space."
   ]
  },
  {
   "cell_type": "code",
   "execution_count": null,
   "metadata": {
    "colab": {
     "base_uri": "https://localhost:8080/"
    },
    "id": "wxbwISOylTKD",
    "outputId": "e3b7f9f3-b196-4e94-af74-560252ccf527"
   },
   "outputs": [],
   "source": [
    "print('image type: ', image.dtype) # show the format in which the image is stored. "
   ]
  },
  {
   "cell_type": "markdown",
   "metadata": {
    "id": "3VFOWTu1Kgqu"
   },
   "source": [
    "# 7 image point processing\n",
    "\n",
    "At 2. introduction to Computer Vision (p.7) <br> \n",
    "In this section, use the RGB image matrix you create above to finish the jobs.\n",
    "\n",
    "![image.png](https://i.imgur.com/D2amXGP.jpg)"
   ]
  },
  {
   "cell_type": "code",
   "execution_count": null,
   "metadata": {},
   "outputs": [],
   "source": [
    "class Image_Point_Processor:\n",
    "    def __init__(self):\n",
    "        self.method_list = ['invert', 'darken', 'lighten',\n",
    "                            'lower_contrast', 'lower_contrast_nonlinear',\n",
    "                            'raise_contrast', 'raise_contrast_nonlinear']\n",
    "\n",
    "    def process_img(self, img:np.array, method:str):\n",
    "        if type(method)==str:\n",
    "            self.process(img, method)\n",
    "        elif type(method)==list:\n",
    "            for m in method:\n",
    "                self.process(img, m)\n",
    "                \n",
    "    def process(self, img:np.array, method:str):\n",
    "        try:\n",
    "            img_modified = getattr(self, method)(img)\n",
    "            self.show_img(img, img_modified, method)\n",
    "        except:\n",
    "            print(f\"Sorry There has no method call '{method}'\")\n",
    "            \n",
    "    def show_img(self, original, modified, method):\n",
    "        fig, axs = plt.subplots(1,2, figsize=(15, 7))\n",
    "        axs = axs.ravel()\n",
    "        imgs = [original, modified]\n",
    "        img_names = ['Origianl', method]\n",
    "        for i, img in enumerate(imgs):\n",
    "            axs[i].imshow(img, cmap='gray')\n",
    "            axs[i].set_title(img_names[i], fontsize=15)\n",
    "            \n",
    "    def show_all_img(self, img):\n",
    "        fig, axs = plt.subplots(2,4, figsize=(15, 7))\n",
    "        axs = axs.ravel()\n",
    "        \n",
    "        imgs = [img]\n",
    "        img_names = ['Original']\n",
    "        for m in self.method_list:\n",
    "            imgs.append(getattr(self, m)(img))\n",
    "            img_names.append(m)\n",
    "            \n",
    "        for i, img in enumerate(imgs):\n",
    "            axs[i].imshow(img, cmap='gray')\n",
    "            axs[i].set_title(img_names[i], fontsize=15)\n",
    "        \n",
    "    def invert(self, img:np.array):\n",
    "        return 255 - img\n",
    "    \n",
    "    def darken(self, img:np.array, intensity:int=64):\n",
    "        img_copy = img.copy()\n",
    "        img_copy[img < intensity] = 0\n",
    "        img_copy[img >= intensity] -= intensity\n",
    "        return img_copy\n",
    "    \n",
    "    def lighten(self, img:np.array, intensity:int=64):\n",
    "        img_copy = img.copy()\n",
    "        cutoff = 255 - intensity\n",
    "        img_copy[img > cutoff] = 255\n",
    "        img_copy[img <= cutoff] += intensity\n",
    "        return img_copy\n",
    "    \n",
    "    def lower_contrast(self, img:np.array, intensity:int=2):\n",
    "        return (img/intensity).astype(np.uint8)\n",
    "    \n",
    "    def lower_contrast_nonlinear(self, img:np.array, intensity:int=3):\n",
    "        return ((img / 255) ** (1/intensity) * 255).astype(np.uint8)\n",
    "    \n",
    "    def raise_contrast(self, img:np.array, intensity:float=1.5):\n",
    "        img_copy = img.copy().astype(float)\n",
    "        img_copy[(img_copy*intensity)>255] = 255\n",
    "        img_copy[(img_copy*intensity)<=255] *= intensity\n",
    "        return img_copy.astype(np.uint8)\n",
    "    \n",
    "    def raise_contrast_nonlinear(self, img:np.array, intensity:int=2):\n",
    "        return ((img / 255) ** (intensity) * 255).astype(np.uint8)\n",
    "\n",
    "Processor = Image_Point_Processor()"
   ]
  },
  {
   "cell_type": "code",
   "execution_count": null,
   "metadata": {
    "colab": {
     "base_uri": "https://localhost:8080/",
     "height": 254
    },
    "id": "5Frq9ZAS03nL",
    "outputId": "0d600754-d66c-49fd-fde0-e972ecc93036"
   },
   "outputs": [],
   "source": [
    "# image invert #\n",
    "# you must plot both the original image and the modefied image as the result.\n",
    "# -------- To do ------------- #\n",
    "Processor.process_img(image, 'invert')"
   ]
  },
  {
   "cell_type": "code",
   "execution_count": null,
   "metadata": {
    "colab": {
     "base_uri": "https://localhost:8080/",
     "height": 254
    },
    "id": "B0wxnmF2jaKy",
    "outputId": "19cdc254-bda6-4de2-fea8-f2275928ffed"
   },
   "outputs": [],
   "source": [
    "# image datken #\n",
    "# you must plot both the original image and the modefied image as the result.\n",
    "# -------- To do ------------- #\n",
    "Processor.process_img(image, 'darken')"
   ]
  },
  {
   "cell_type": "code",
   "execution_count": null,
   "metadata": {
    "colab": {
     "base_uri": "https://localhost:8080/",
     "height": 254
    },
    "id": "qNgvUcf10esM",
    "outputId": "42cd175c-ede6-45e6-b780-8a2ad8aa3900"
   },
   "outputs": [],
   "source": [
    "# image lighten #\n",
    "# you must plot both the original image and the modefied image as the result.\n",
    "# -------- To do ------------- #\n",
    "Processor.process_img(image, 'lighten')"
   ]
  },
  {
   "cell_type": "code",
   "execution_count": null,
   "metadata": {
    "colab": {
     "base_uri": "https://localhost:8080/",
     "height": 254
    },
    "id": "pDz80YOl0pxb",
    "outputId": "55e35c8b-6edf-4195-8fc4-5975dff04f6a"
   },
   "outputs": [],
   "source": [
    "# image Lower Contrast #\n",
    "# you must plot both the original image and the modefied image as the result.\n",
    "# -------- To do ------------- #\n",
    "Processor.process_img(image, 'lower_contrast')"
   ]
  },
  {
   "cell_type": "code",
   "execution_count": null,
   "metadata": {
    "colab": {
     "base_uri": "https://localhost:8080/",
     "height": 254
    },
    "id": "jUDiCroCj2Sf",
    "outputId": "5b73f88c-6e85-4510-bc0e-75d369d39539"
   },
   "outputs": [],
   "source": [
    "# image raise contrast #\n",
    "# you must plot both the original image and the modefied image as the result.\n",
    "# -------- To do ------------- #\n",
    "Processor.process_img(image, 'raise_contrast')"
   ]
  },
  {
   "cell_type": "code",
   "execution_count": null,
   "metadata": {
    "colab": {
     "base_uri": "https://localhost:8080/",
     "height": 254
    },
    "id": "NFEo8IDv2iA2",
    "outputId": "d12262f5-0734-494c-adca-4c4dcbd45348"
   },
   "outputs": [],
   "source": [
    "# Non-linear lower contrast #\n",
    "# you must plot both the original image and the modefied image as the result.\n",
    "# -------- To do ------------- #\n",
    "Processor.process_img(image, 'lower_contrast_nonlinear')"
   ]
  },
  {
   "cell_type": "code",
   "execution_count": null,
   "metadata": {
    "colab": {
     "base_uri": "https://localhost:8080/",
     "height": 254
    },
    "id": "qQZmAQHz3IFx",
    "outputId": "c5986bbf-2619-47a7-aee1-eb4fc4de91e1"
   },
   "outputs": [],
   "source": [
    "# Non-linear raise contrast #\n",
    "# you must plot both the original image and the modefied image as the result.\n",
    "# -------- To do ------------- #\n",
    "Processor.process_img(image, 'raise_contrast_nonlinear')"
   ]
  },
  {
   "cell_type": "code",
   "execution_count": null,
   "metadata": {
    "colab": {
     "base_uri": "https://localhost:8080/",
     "height": 588
    },
    "id": "mVaEjEWS79bo",
    "outputId": "131834fe-8135-4032-a2e6-079a264c5c35"
   },
   "outputs": [],
   "source": [
    "# plot all the point processing image #\n",
    "# -------------- To do ----------------- #\n",
    "Processor.show_all_img(image)"
   ]
  },
  {
   "cell_type": "markdown",
   "metadata": {
    "id": "1qGIacT381R4"
   },
   "source": [
    "# Filtering an Image (Gaussian)\n",
    "### Opencv Library\n",
    "First, we use a package to show how gaussian filters change your original image. "
   ]
  },
  {
   "cell_type": "code",
   "execution_count": null,
   "metadata": {
    "colab": {
     "base_uri": "https://localhost:8080/",
     "height": 337
    },
    "id": "m7PgHiBF84Qe",
    "outputId": "1010a548-acc3-4228-9098-0d3d1bfd201a"
   },
   "outputs": [],
   "source": [
    "image = cv2.imread(\"./sample_image/backyard.png\")\n",
    "image = image[:,:,::-1]\n",
    "\n",
    "image_list = []\n",
    "image_list.append(image)\n",
    "image_list.append(cv2.GaussianBlur(image,(3,3),0))\n",
    "image_list.append(cv2.GaussianBlur(image,(5,5),0))\n",
    "image_list.append(cv2.GaussianBlur(image,(7,7),0))\n",
    "title_list = []\n",
    "title_list.append('original')\n",
    "title_list.append('3*3 kernel')\n",
    "title_list.append('5*5 kernel')\n",
    "title_list.append('7*7 kernel')\n",
    "\n",
    "fig = plt.figure(figsize=(30,60))\n",
    "for im,ss,i in zip(image_list,title_list,range(0, 4)):\n",
    "    plt.subplot(1,4,i+1)\n",
    "    plt.imshow(im)\n",
    "    plt.title(ss)\n",
    "    print('filter with {}, image shape: {}'.format(ss, im.shape))\n",
    "plt.show()\n",
    "\n"
   ]
  },
  {
   "cell_type": "markdown",
   "metadata": {
    "id": "hBtSauJyc2Ve"
   },
   "source": [
    "## Step1 : Get filter kernel\n",
    "\n",
    "![image.png](https://i.imgur.com/oh9HkZA.png)\n",
    "\n",
    "[OpenCV getGaussianKernel](https://docs.opencv.org/2.4/modules/imgproc/doc/filtering.html?highlight=gaussianblur#Mat%20getGaussianKernel(int%20ksize,%20double%20sigma,%20int%20ktype))\n",
    "\n",
    "### getGaussianKernel(int ksize, double sigma, int ktype=CV_64F )\n",
    "\n",
    "### Parameters:\t\n",
    "**ksize** – Aperture size. It should be odd ( $ksize\\ mod\\ 2 = 1$) and positive.\n",
    "\n",
    "**sigma** – Gaussian standard deviation. If it is non-positive, it is computed from ksize as $\\ \\ sigma = 0.3*((ksize-1)*0.5 - 1) + 0.8$\n",
    "\n",
    "**ktype** – Type of filter coefficients. It can be CV_32f or CV_64F .\n",
    "\n",
    "$G_i = \\alpha * e^{(-i-(ksize-1)/2)^2/(2*sigma^2)},$\n",
    "\n",
    "$where\\ i = 0 \\sim ksize-1,\\ and\\ \\alpha\\ is\\ the\\ scale\\ factor\\ chosen\\ so\\ that \\sum_iG_i=1$"
   ]
  },
  {
   "cell_type": "code",
   "execution_count": null,
   "metadata": {},
   "outputs": [],
   "source": [
    "# define a function that could return a gaussian kernel based on \"KernelSize\" variable input.\n",
    "\n",
    "import math\n",
    "\n",
    "def GaussianKernel(KernelSize):\n",
    "    sigma = 0.3*((KernelSize-1)*0.5 - 1) + 0.8\n",
    "    Gaussian=[]\n",
    "    #各係數相加後總值\n",
    "    total=0\n",
    "    ###########以下是新增的部分###########\n",
    "    center = KernelSize//2\n",
    "    constant = 1/(2*math.pi*sigma**2)\n",
    "    ###########以上是新增的部分###########\n",
    "    for i in range(0,KernelSize):\n",
    "        Filter_list = []\n",
    "        ###########以下是新增的部分###########\n",
    "        x = i - center\n",
    "        ###########以上是新增的部分###########\n",
    "        for j in range(0,KernelSize):\n",
    "            #高斯函數公式\n",
    "            # -------------- To do ----------------- #\n",
    "            y = j - center\n",
    "            kernel_value = constant * math.exp(-1*(x**2+y**2)/(2*sigma**2))\n",
    "            Filter_list.append(kernel_value)\n",
    "            total += kernel_value\n",
    "            \n",
    "        Gaussian+= [Filter_list]\n",
    "    return np.array(Gaussian)/total\n",
    "\n",
    "KernelSize = 7 # use kernel size 7 in this section\n",
    "Gaussian_Kernel=GaussianKernel(KernelSize)\n",
    "\n",
    "# you should print the sum of the filter and the kernel itself as the result of this cell \n",
    "print('Sum of the filter: ',np.sum(Gaussian_Kernel))\n",
    "print('filter: \\n', Gaussian_Kernel)"
   ]
  },
  {
   "cell_type": "markdown",
   "metadata": {
    "id": "oVE-LUxdRN6d"
   },
   "source": [
    "## Step 2 : Padding"
   ]
  },
  {
   "cell_type": "code",
   "execution_count": null,
   "metadata": {
    "colab": {
     "base_uri": "https://localhost:8080/",
     "height": 267
    },
    "id": "P5pOAOhrRZpd",
    "outputId": "a6855f92-4c91-4073-a5ea-1b32574fb3d1"
   },
   "outputs": [],
   "source": [
    "# define a function that could return a image matrix with zero-padding based on the input \"img\" and \"p_size\".\n",
    "\n",
    "def padding_img(img, p_size, style='constant'):\n",
    "    # -------------- To do ----------------- #\n",
    "    H, W, C = img.shape\n",
    "    image_padding = np.zeros([H+p_size*2, W+p_size*2, C], dtype=img.dtype)\n",
    "    if style == 'constant':\n",
    "        image_padding[p_size:-p_size, p_size:-p_size] = img\n",
    "    \n",
    "    elif style == 'edge':\n",
    "        image_padding[p_size:H+p_size, p_size:W+p_size, :C] = img\n",
    "\n",
    "        # Pad the first/last two col and row\n",
    "        image_padding[p_size:H+p_size, 0:p_size, :C] = img[:, 0:1, :C]\n",
    "        image_padding[H+p_size:H+p_size*2, p_size:W+p_size, :] = img[H-1:H, :, :]\n",
    "        image_padding[p_size:H+p_size, W+p_size:W+p_size*2, :] = img[:, W-1:W, :]\n",
    "        image_padding[0:p_size, p_size:W+p_size, :C] = img[0:1, :, :C]\n",
    "\n",
    "        # Pad the missing eight points\n",
    "        image_padding[0:p_size, 0:p_size, :C] = img[0, 0, :C]\n",
    "        image_padding[H+p_size:H+p_size*2, 0:p_size, :C] = img[H-1, 0, :C]\n",
    "        image_padding[H+p_size:H+p_size*2, W+p_size:W+p_size*2, :C] = img[H-1, W-1, :C]\n",
    "        image_padding[0:p_size, W+p_size:W+p_size*2, :C] = img[0, W-1, :C]\n",
    "    \n",
    "    return image_padding\n",
    "\n",
    "# you should plot the original image, the padding image and their shape.\n",
    "# -------------- To do ----------------- #\n",
    "constant = padding_img(image, 10)\n",
    "\n",
    "def show_img(*imgs, method, gray=False):\n",
    "    n_img = len(imgs)\n",
    "    fig, axs = plt.subplots(1, n_img, figsize=((n_img-1)*7, n_img**2))\n",
    "    axs = axs.ravel()\n",
    "    # imgs = [original, modified]\n",
    "    if type(method) == str:\n",
    "        img_names = ['Origianl', method]\n",
    "    elif type(method) == list:\n",
    "        img_names = ['Origianl'] + method\n",
    "        assert len(imgs) == len(img_names), 'number of image must be equal to number of methods'\n",
    "        \n",
    "    for i, img in enumerate(imgs):\n",
    "        if gray and i == 1:\n",
    "            axs[i].imshow(img, cmap='gray')\n",
    "        else:\n",
    "            axs[i].imshow(img)\n",
    "        axs[i].set_title(img_names[i], fontsize=15)\n",
    "\n",
    "show_img(image, constant, method='Constant')"
   ]
  },
  {
   "cell_type": "markdown",
   "metadata": {
    "id": "Gv8JjQhzFFy2"
   },
   "source": [
    "## Step 3 : Convolution\n",
    "\n",
    "\n",
    "[The difference between convolution and cross-correlation from a signal-analysis point of view](https://dsp.stackexchange.com/questions/27451/the-difference-between-convolution-and-cross-correlation-from-a-signal-analysis)\n",
    "\n",
    "[Border type](https://docs.opencv.org/master/d2/de8/group__core__array.html#ga209f2f4869e304c82d07739337eae7c5)\n",
    "\n",
    "![](https://i.imgur.com/qEYv2fV.png)\n",
    "![](https://i.imgur.com/SGeFKLD.png)"
   ]
  },
  {
   "cell_type": "code",
   "execution_count": null,
   "metadata": {
    "colab": {
     "base_uri": "https://localhost:8080/"
    },
    "id": "Dn29OCP_FBW1",
    "outputId": "beedc3dc-3c9a-4d8d-e41b-58d4724df786"
   },
   "outputs": [],
   "source": [
    "# define a function that does the convlution operation with the input image matrix and input kernel matrix.\n",
    "from tqdm import trange\n",
    "\n",
    "def Convolution(image, Kernel, padding=True):\n",
    "    row, col, depth = image.shape\n",
    "    \n",
    "    if padding:\n",
    "        resx=np.zeros((row,col,depth), dtype=np.uint8) #initial a result image\n",
    "        padimg = padding_img(image, (KernelSize-1)//2)\n",
    "    else:\n",
    "        resx=np.zeros((row-KernelSize+1,\n",
    "                       col-KernelSize+1,\n",
    "                       depth), dtype=np.uint8) #initial a result image\n",
    "        padimg = image\n",
    "    # -------------- To do ----------------- #\n",
    "    h_padimg, w_padimg, c_padimg = padimg.shape\n",
    "    for h in trange(h_padimg-KernelSize+1):\n",
    "        for w in range(w_padimg-KernelSize+1):\n",
    "            for c in range(depth):\n",
    "                v = np.sum(padimg[h:h+KernelSize, w:w+KernelSize, c]*Kernel)\n",
    "                resx[h, w, c] = np.clip(v, 0, 255)\n",
    "    return resx\n",
    "\n",
    "resx = Convolution(image, Gaussian_Kernel) # we get a result matrix here.\n",
    "print('Convolution Finished!')"
   ]
  },
  {
   "cell_type": "markdown",
   "metadata": {
    "id": "QfuQbkdoV4B8"
   },
   "source": [
    "## Step3 Result"
   ]
  },
  {
   "cell_type": "code",
   "execution_count": null,
   "metadata": {
    "colab": {
     "base_uri": "https://localhost:8080/",
     "height": 266
    },
    "id": "Wsi3GyxSQr_Q",
    "outputId": "8bdd6808-f06b-49e6-b1f9-13d3adb43a7d"
   },
   "outputs": [],
   "source": [
    "# you should plot both the original image and the image after having convlution with the kernel.\n",
    "# you should print their shape.\n",
    " \n",
    "# -------------- To do ----------------- #\n",
    "show_img(image, resx, method='Result W/ Padding')\n",
    "show_img(image, Convolution(image, Gaussian_Kernel, padding=False), method='Result W/O Padding')"
   ]
  },
  {
   "cell_type": "code",
   "execution_count": null,
   "metadata": {
    "id": "T8DueL9haHs8"
   },
   "outputs": [],
   "source": [
    "import cv2 \n",
    "import numpy as np\n",
    "import matplotlib.pyplot as plt"
   ]
  },
  {
   "cell_type": "code",
   "execution_count": null,
   "metadata": {
    "colab": {
     "base_uri": "https://localhost:8080/",
     "height": 298
    },
    "id": "bozY7-ViaM_E",
    "outputId": "54ba5ad0-c351-4d33-8e32-336d264c1be8"
   },
   "outputs": [],
   "source": [
    "image = cv2.imread(\"./sample_image/twins.jpg\")\n",
    "image = image[:,:,::-1]\n",
    "\n",
    "plt.imshow(image)\n",
    "plt.title('original')"
   ]
  },
  {
   "cell_type": "markdown",
   "metadata": {
    "id": "Dpw_OiekZgKM"
   },
   "source": [
    "# Filtering an Image (Sharpening)"
   ]
  },
  {
   "cell_type": "code",
   "execution_count": null,
   "metadata": {
    "colab": {
     "base_uri": "https://localhost:8080/",
     "height": 486
    },
    "id": "G_4X9jnPaF6S",
    "outputId": "dd49386f-f9b0-48c0-cc13-d029b7c332aa",
    "scrolled": true
   },
   "outputs": [],
   "source": [
    "# you could use the conv function in your previous work.\n",
    "# use [0 -1 0] to sharp your image\n",
    "#    [-1 5 -1]\n",
    "#    [0 -1 0]\n",
    "KernelSize = 3\n",
    "\n",
    "def Sharpening(image, KernelSize=3, padding=True):\n",
    "    # -------------- To do ----------------- #\n",
    "    Kernel = [[ 0., -1.,  0.],\n",
    "              [-1.,  5., -1.],\n",
    "              [ 0., -1.,  0.]]\n",
    "    print(f'Kernel:\\n{Kernel}')\n",
    "    \n",
    "    Kernel = np.array(Kernel)\n",
    "    \n",
    "    sharpening = Convolution(image, Kernel, padding)\n",
    "    return sharpening\n",
    "\n",
    "# plot the image and shape\n",
    "# -------------- To do ----------------- #\n",
    "show_img(image, Sharpening(image, KernelSize, padding=True), method='Sharpening w/ padding')\n",
    "show_img(image, Sharpening(image, KernelSize, padding=False), method='Sharpening w/o padding')"
   ]
  },
  {
   "cell_type": "markdown",
   "metadata": {
    "id": "F7sZgxXKXW60"
   },
   "source": [
    "# Filtering an Image (Mean)"
   ]
  },
  {
   "cell_type": "code",
   "execution_count": null,
   "metadata": {
    "colab": {
     "base_uri": "https://localhost:8080/",
     "height": 677
    },
    "id": "zxnKcgmrqCWA",
    "outputId": "16e7b6ca-d7ad-4f15-a460-bc734c845f5d"
   },
   "outputs": [],
   "source": [
    "# you could use the conv function in your previous work.\n",
    "KernelSize = 7\n",
    "\n",
    "def Mean(image, KernelSize):\n",
    "  # -------------- To do ----------------- #\n",
    "    Kernel = np.ones([KernelSize, KernelSize])/ KernelSize**2\n",
    "    \n",
    "    print(f'Kernel:\\n{Kernel}')\n",
    "\n",
    "    mean_ = Convolution(image, Kernel)\n",
    "    return mean_\n",
    "\n",
    "# plot the image and shape\n",
    "# -------------- To do ----------------- #\n",
    "show_img(image, Mean(image, KernelSize), method='Mean')"
   ]
  },
  {
   "cell_type": "markdown",
   "metadata": {
    "id": "m4LtKTjgZsWG"
   },
   "source": [
    "# Filtering an Image (Shift)"
   ]
  },
  {
   "cell_type": "code",
   "execution_count": null,
   "metadata": {
    "colab": {
     "base_uri": "https://localhost:8080/",
     "height": 538
    },
    "id": "WRPEVInOrGRw",
    "outputId": "d3360d1c-d0a7-4dde-cfa4-b761c8e2fe9f"
   },
   "outputs": [],
   "source": [
    "# you could use the function in your previous work.\n",
    "KernelSize = 31\n",
    "\n",
    "def Shift(image, KernelSize):\n",
    "    # -------------- To do ----------------- #\n",
    "    Kernel = np.zeros([KernelSize, KernelSize])\n",
    "    center = KernelSize // 2\n",
    "    Kernel[center, 0] = 1\n",
    "    \n",
    "    shift_ = Convolution(image, Kernel)\n",
    "    \n",
    "    return shift_\n",
    "\n",
    "# plot the image and shape\n",
    "# -------------- To do ----------------- #\n",
    "show_img(image, Shift(image, KernelSize), method='Shift')"
   ]
  },
  {
   "cell_type": "markdown",
   "metadata": {
    "id": "niK-D90-ZsdE"
   },
   "source": [
    "# Filtering an Image (Thresholding)"
   ]
  },
  {
   "cell_type": "code",
   "execution_count": null,
   "metadata": {
    "colab": {
     "base_uri": "https://localhost:8080/",
     "height": 399
    },
    "id": "IdaoJmmeGDhu",
    "outputId": "1063d064-33e6-4bf7-e4d8-f3fc1ada70ba"
   },
   "outputs": [],
   "source": [
    "def Thresholding(img, threshold = 125):\n",
    "    # -------------- To do ----------------- #\n",
    "    img_ = cv2.cvtColor(img, cv2.COLOR_BGR2GRAY)\n",
    "    mask = img_ > threshold\n",
    "    img_[mask] = 255\n",
    "    \n",
    "    return img_\n",
    "    \n",
    "# plot the image and shape\n",
    "# -------------- To do ----------------- #\n",
    "show_img(image, Thresholding(image, 96), method='Thresholding', gray=True)"
   ]
  },
  {
   "cell_type": "markdown",
   "metadata": {
    "id": "fIOVrbH79AR4"
   },
   "source": [
    "# Downsampling\n",
    "\n",
    "![](https://i.imgur.com/0zrrdKy.png)"
   ]
  },
  {
   "cell_type": "code",
   "execution_count": null,
   "metadata": {
    "colab": {
     "base_uri": "https://localhost:8080/",
     "height": 286
    },
    "id": "JfSHZKld9CA3",
    "outputId": "183183c7-2a4f-4867-cc9a-eefc07403dcf"
   },
   "outputs": [],
   "source": [
    "# read your image here and show it\n",
    "# you should cover with the image and its shape\n",
    "img = cv2.imread('./sample_image/keys.png')\n",
    "b,g,r = cv2.split(img)\n",
    "img_RGB = cv2.merge([r,g,b])\n",
    "plt.imshow(img_RGB)\n",
    "plt.show()\n",
    "print('image shape: ', img_RGB.shape)"
   ]
  },
  {
   "cell_type": "code",
   "execution_count": null,
   "metadata": {
    "id": "G9x--jJZUzUW"
   },
   "outputs": [],
   "source": [
    "# define a function that downsample the image with the input image matrix and the scale.\n",
    "# the function will return a modefied image matrix.\n",
    "\n",
    "def DownSamplingFunction(src,samplingScale):\n",
    "    # plot the image and shape\n",
    "    # -------------- To do ----------------- #\n",
    "    H, W = src.shape[:2]\n",
    "    stride = int(1/samplingScale)\n",
    "    row, col = np.arange(0, H, stride), np.arange(0, W, stride)\n",
    "    dst = src[row][:,col].copy()\n",
    "    \n",
    "    return dst.astype('uint8')"
   ]
  },
  {
   "cell_type": "markdown",
   "metadata": {
    "id": "X1rSAPNvcaFS"
   },
   "source": [
    "### Downsampling Without Gaussian Filter"
   ]
  },
  {
   "cell_type": "code",
   "execution_count": null,
   "metadata": {
    "colab": {
     "base_uri": "https://localhost:8080/",
     "height": 333
    },
    "id": "U4fJ5aaHVh01",
    "outputId": "dca199b7-98a3-4f7a-b87c-e361f4b3eb6c"
   },
   "outputs": [],
   "source": [
    "# plot your result with 2 scale, 1/4 and 1/8, also their shape.\n",
    "\n",
    "# ----------- to do ------------------ #\n",
    "Downsampling_img_4 = DownSamplingFunction(img_RGB, 1/4)\n",
    "Downsampling_img_8 = DownSamplingFunction(img_RGB, 1/8)\n",
    "\n",
    "# plot the image and shape\n",
    "# -------------- To do ----------------- #\n",
    "show_img(img_RGB, \n",
    "         Downsampling_img_4,\n",
    "         Downsampling_img_8, method=['1/4', '1/8'])"
   ]
  },
  {
   "cell_type": "markdown",
   "metadata": {
    "id": "pDsdp_K0cVvi"
   },
   "source": [
    "## Downsampling With Gaussian Filter"
   ]
  },
  {
   "cell_type": "code",
   "execution_count": null,
   "metadata": {
    "id": "ExFQsRt8c4s6"
   },
   "outputs": [],
   "source": [
    "## Gaussian\n",
    "# ----------- to do 1, filtering the image with gaussian ------------------ # \n",
    "# you could grab the function from your previous work!\n",
    "Gaussian_Kernel = GaussianKernel(KernelSize)\n",
    "img_Gaussian = Convolution(img_RGB, Gaussian_Kernel, padding=False)\n",
    "# ----------- to do 2, down sampling ------------------ #\n",
    "# 2 scale, 1/4 and 1/8\n",
    "Downsampling_img_4_Gaussian = DownSamplingFunction(img_Gaussian, 1/4)\n",
    "Downsampling_img_8_Gaussian = DownSamplingFunction(img_Gaussian, 1/8)"
   ]
  },
  {
   "cell_type": "code",
   "execution_count": null,
   "metadata": {
    "colab": {
     "base_uri": "https://localhost:8080/",
     "height": 333
    },
    "id": "X9yrK4P1eOma",
    "outputId": "63c14901-6f83-41fd-a9d4-338f145b832e"
   },
   "outputs": [],
   "source": [
    "# ----------- to do 3, plot ------------------ #\n",
    "#　plot your result and also their shape.\n",
    "show_img(img_RGB, \n",
    "         Downsampling_img_4_Gaussian,\n",
    "         Downsampling_img_8_Gaussian, method=['Gaussian 1/4', 'Gaussian1/8'])"
   ]
  },
  {
   "cell_type": "markdown",
   "metadata": {
    "id": "37ikZRmn9Ceo"
   },
   "source": [
    "# Upsampling\n",
    "\n",
    "Chosing the 1/8 downsampling picture for upsampling\n",
    "using Nearest-neighbor interpolation"
   ]
  },
  {
   "cell_type": "code",
   "execution_count": null,
   "metadata": {
    "id": "_JXOvRmq9Efm"
   },
   "outputs": [],
   "source": [
    "# ---------- to do 1, upsampling ------------ #\n",
    "# using 1/8 image from previous work, using nearest neightbor method\n",
    "\n",
    "def UpSamplingFunction(src,samplingScale):\n",
    "    # plot the image and shape\n",
    "    # -------------- To do ----------------- #\n",
    "    \n",
    "    H, W, C = src.shape\n",
    "    dst = np.zeros([H*samplingScale, W*samplingScale, C], dtype=np.uint8)\n",
    "    new_H, new_W = dst.shape[:2]\n",
    "    \n",
    "    for new_x in range(new_H):\n",
    "        for new_y in range(new_W):\n",
    "            x = int(new_x / samplingScale)\n",
    "            y = int(new_y / samplingScale)\n",
    "            dst[new_x,new_y] = src[x,y]\n",
    "    \n",
    "    return dst"
   ]
  },
  {
   "cell_type": "code",
   "execution_count": null,
   "metadata": {
    "colab": {
     "base_uri": "https://localhost:8080/",
     "height": 435
    },
    "id": "6HO134l0aBxA",
    "outputId": "974660ea-3a93-448e-a657-781746ed64df"
   },
   "outputs": [],
   "source": [
    "# ---------- to do 2, plot ------------ #\n",
    "# you should cover with the result image and the shape\n",
    "Upsampling_img_8 = UpSamplingFunction(Downsampling_img_8, 8)\n",
    "Upsampling_img_8_Gaussian = UpSamplingFunction(Downsampling_img_8_Gaussian, 8)\n",
    "\n",
    "show_img(Downsampling_img_8, Upsampling_img_8, method='Nearest-neighbor interpolation')\n",
    "show_img(Downsampling_img_8_Gaussian, Upsampling_img_8_Gaussian, method='Nearest-neighbor interpolation Gaussian')"
   ]
  },
  {
   "cell_type": "markdown",
   "metadata": {
    "id": "yjEfEQp3s1es"
   },
   "source": [
    "# Bicubic Interpolation\n",
    "You don't have to do this section. This is just a appendix.\n",
    "### [Bicubic Interpolation](https://en.wikipedia.org/wiki/Bicubic_interpolation)\n",
    "![](https://i.imgur.com/0WMYL73.png)\n",
    "\n",
    "![](https://i.imgur.com/tQTZhga.png)"
   ]
  },
  {
   "cell_type": "code",
   "execution_count": null,
   "metadata": {},
   "outputs": [],
   "source": [
    "from tqdm import trange\n",
    "\n",
    "# method 1, using package\n",
    "img_bic = cv2.resize(Downsampling_img_8_Gaussian, (image.shape[1],image.shape[0]), interpolation=cv2.INTER_CUBIC) #INTER_CUBIC - a bicubic interpolation over 4x4 pixel neighborhood\n",
    "\n",
    "# method 2, hand craft function\n",
    "\n",
    "def Bicubic_function(s,a=-0.5):\n",
    "    # -------------- To do ----------------- #\n",
    "    if (abs(s) >= 0) & (abs(s) <= 1):\n",
    "        k = (a+2)*(abs(s)**3)-(a+3)*(abs(s)**2)+1\n",
    "        \n",
    "    elif (abs(s) > 1) & (abs(s) <= 2):\n",
    "        k = a*(abs(s)**3)-(5*a)*(abs(s)**2)+(8*a)*abs(s)-4*a\n",
    "    else:\n",
    "        k = 0\n",
    "        \n",
    "    return k\n",
    "\n",
    "def bicubic(img, ratio, a):\n",
    "    H, W, C = img.shape\n",
    "    H = int(H*ratio)\n",
    "    W = int(W*ratio)\n",
    "    img = padding_img(img,2,style='edge')\n",
    "    dst = np.zeros((H, W, 3))\n",
    "    delta = 1/ratio\n",
    "    \n",
    "    inc = 0\n",
    "    for j in trange(H):\n",
    "        for i in range(W):\n",
    "            # -------------- To do ----------------- #\n",
    "            for c in range(C):\n",
    "                x, y = i * delta + 2 , j * delta + 2\n",
    "                x1 = 1 + x - int(x)\n",
    "                x2 = x - int(x)\n",
    "                x3 = int(x) + 1 - x\n",
    "                x4 = int(x) + 2 - x\n",
    "\n",
    "                y1 = 1 + y - int(y)\n",
    "                y2 = y - int(y)\n",
    "                y3 = int(y) + 1 - y\n",
    "                y4 = int(y) + 2 - y\n",
    "\n",
    "                mat_l = np.matrix([[Bicubic_function(x1,a),\n",
    "                                    Bicubic_function(x2,a),\n",
    "                                    Bicubic_function(x3,a),\n",
    "                                    Bicubic_function(x4,a)]])\n",
    "                mat_m = np.matrix([[img[int(y-y1),int(x-x1),c],img[int(y-y2),int(x-x1),c],img[int(y+y3),int(x-x1),c],img[int(y+y4),int(x-x1),c]],\n",
    "                                   [img[int(y-y1),int(x-x2),c],img[int(y-y2),int(x-x2),c],img[int(y+y3),int(x-x2),c],img[int(y+y4),int(x-x2),c]],\n",
    "                                   [img[int(y-y1),int(x+x3),c],img[int(y-y2),int(x+x3),c],img[int(y+y3),int(x+x3),c],img[int(y+y4),int(x+x3),c]],\n",
    "                                   [img[int(y-y1),int(x+x4),c],img[int(y-y2),int(x+x4),c],img[int(y+y3),int(x+x4),c],img[int(y+y4),int(x+x4),c]]])\n",
    "                mat_r = np.matrix([[Bicubic_function(y1,a)],\n",
    "                                   [Bicubic_function(y2,a)],\n",
    "                                   [Bicubic_function(y3,a)],\n",
    "                                   [Bicubic_function(y4,a)]])\n",
    "                dst[j, i, c] = np.dot(np.dot(mat_l, mat_m),mat_r)\n",
    "    \n",
    "    return np.clip(dst,0,255).astype('uint')\n",
    "\n",
    "img_bic_hand = bicubic(Downsampling_img_8_Gaussian, 8, -0.5)\n",
    "\n",
    "plt.figure(figsize=(20,40))\n",
    "plt.subplot(1,2,1)\n",
    "plt.title('1 / 8')\n",
    "plt.imshow(Downsampling_img_8_Gaussian)\n",
    "plt.subplot(1,2,2)\n",
    "plt.title('bicubic')\n",
    "plt.imshow(img_bic_hand)\n",
    "plt.show() \n",
    "\n",
    "print('1/8 shape: ', Downsampling_img_8_Gaussian.shape)\n",
    "print('upsampling shape: ', img_bic_hand.shape)"
   ]
  }
 ],
 "metadata": {
  "colab": {
   "collapsed_sections": [],
   "name": "2022 電機系 HW1",
   "provenance": [],
   "toc_visible": true
  },
  "kernelspec": {
   "display_name": "Python 3",
   "language": "python",
   "name": "python3"
  },
  "language_info": {
   "codemirror_mode": {
    "name": "ipython",
    "version": 3
   },
   "file_extension": ".py",
   "mimetype": "text/x-python",
   "name": "python",
   "nbconvert_exporter": "python",
   "pygments_lexer": "ipython3",
   "version": "3.6.9"
  }
 },
 "nbformat": 4,
 "nbformat_minor": 1
}
